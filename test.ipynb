{
 "cells": [
  {
   "cell_type": "code",
   "execution_count": 1,
   "metadata": {},
   "outputs": [],
   "source": [
    "from memory.stack import STACK\n",
    "from memory.queue import QUEUE\n",
    "from memory.tape import TAPE\n",
    "from memory.tape2d import TAPE_2D\n",
    "from util.inputs import process_input"
   ]
  },
  {
   "cell_type": "code",
   "execution_count": 2,
   "metadata": {},
   "outputs": [],
   "source": [
    "s1 = STACK(\"s1\")\n",
    "q1 = QUEUE(\"q1\")\n",
    "t1 = TAPE(\"t1\")\n",
    "t2d1 = TAPE_2D(\"t2d1\")"
   ]
  },
  {
   "cell_type": "markdown",
   "metadata": {},
   "source": [
    "Stack - READ, WRITE, SCAN"
   ]
  },
  {
   "cell_type": "code",
   "execution_count": 3,
   "metadata": {},
   "outputs": [
    {
     "name": "stdout",
     "output_type": "stream",
     "text": [
      "Displaying Stack: [0, 1, 2, 3, 4]\n"
     ]
    }
   ],
   "source": [
    "# WRITE\n",
    "s1.WRITE(0)\n",
    "s1.WRITE(1)\n",
    "s1.WRITE(2)\n",
    "s1.WRITE(3)\n",
    "s1.WRITE(4)\n",
    "\n",
    "print(f\"Displaying Stack: {s1.stack}\")"
   ]
  },
  {
   "cell_type": "code",
   "execution_count": 4,
   "metadata": {},
   "outputs": [
    {
     "name": "stdout",
     "output_type": "stream",
     "text": [
      "Scanning top of stack: 4\n"
     ]
    }
   ],
   "source": [
    "# SCAN\n",
    "print(f\"Scanning top of stack: {s1.SCAN()}\")"
   ]
  },
  {
   "cell_type": "code",
   "execution_count": 5,
   "metadata": {},
   "outputs": [
    {
     "name": "stdout",
     "output_type": "stream",
     "text": [
      "Reading (pop): 4\n",
      "Displaying Stack: [0, 1, 2, 3]\n",
      "Reading (pop): 3\n",
      "Displaying Stack: [0, 1, 2]\n",
      "Reading (pop): 2\n",
      "Displaying Stack: [0, 1]\n",
      "Reading (pop): 1\n",
      "Displaying Stack: [0]\n",
      "Reading (pop): 0\n",
      "Displaying Stack: []\n",
      "STACK ERROR: s1 is empty and cannot be read.\n",
      "Reading (pop): None\n",
      "Displaying Stack: []\n"
     ]
    }
   ],
   "source": [
    "# READ\n",
    "print(f\"Reading (pop): {s1.READ()}\")\n",
    "print(f\"Displaying Stack: {s1.stack}\")\n",
    "print(f\"Reading (pop): {s1.READ()}\")\n",
    "print(f\"Displaying Stack: {s1.stack}\")\n",
    "print(f\"Reading (pop): {s1.READ()}\")\n",
    "print(f\"Displaying Stack: {s1.stack}\")\n",
    "print(f\"Reading (pop): {s1.READ()}\")\n",
    "print(f\"Displaying Stack: {s1.stack}\")\n",
    "print(f\"Reading (pop): {s1.READ()}\")\n",
    "print(f\"Displaying Stack: {s1.stack}\")\n",
    "print(f\"Reading (pop): {s1.READ()}\")\n",
    "print(f\"Displaying Stack: {s1.stack}\")\n"
   ]
  },
  {
   "cell_type": "markdown",
   "metadata": {},
   "source": [
    "QUEUE: READ, WRITE, SCAN"
   ]
  },
  {
   "cell_type": "code",
   "execution_count": 6,
   "metadata": {},
   "outputs": [
    {
     "name": "stdout",
     "output_type": "stream",
     "text": [
      "Displaying Queue: [0, 1, 2, 3, 4]\n"
     ]
    }
   ],
   "source": [
    "# WRITE\n",
    "q1.WRITE(0)\n",
    "q1.WRITE(1)\n",
    "q1.WRITE(2)\n",
    "q1.WRITE(3)\n",
    "q1.WRITE(4)\n",
    "\n",
    "print(f\"Displaying Queue: {q1.queue}\")"
   ]
  },
  {
   "cell_type": "code",
   "execution_count": 7,
   "metadata": {},
   "outputs": [
    {
     "name": "stdout",
     "output_type": "stream",
     "text": [
      "Scanning start of queue: 0\n"
     ]
    }
   ],
   "source": [
    "# SCAN\n",
    "print(f\"Scanning start of queue: {q1.SCAN()}\")"
   ]
  },
  {
   "cell_type": "code",
   "execution_count": 8,
   "metadata": {},
   "outputs": [
    {
     "name": "stdout",
     "output_type": "stream",
     "text": [
      "Reading (dequeue): 0\n",
      "Displaying queue: [1, 2, 3, 4]\n",
      "Reading (dequeue): 1\n",
      "Displaying queue: [2, 3, 4]\n",
      "Reading (dequeue): 2\n",
      "Displaying queue: [3, 4]\n",
      "Reading (dequeue): 3\n",
      "Displaying queue: [4]\n",
      "Reading (dequeue): 4\n",
      "Displaying queue: []\n",
      "QUEUE ERROR: q1 is empty and cannot be read.\n",
      "Reading (dequeue): None\n",
      "Displaying queue: []\n"
     ]
    }
   ],
   "source": [
    "# READ\n",
    "print(f\"Reading (dequeue): {q1.READ()}\")\n",
    "print(f\"Displaying queue: {q1.queue}\")\n",
    "print(f\"Reading (dequeue): {q1.READ()}\")\n",
    "print(f\"Displaying queue: {q1.queue}\")\n",
    "print(f\"Reading (dequeue): {q1.READ()}\")\n",
    "print(f\"Displaying queue: {q1.queue}\")\n",
    "print(f\"Reading (dequeue): {q1.READ()}\")\n",
    "print(f\"Displaying queue: {q1.queue}\")\n",
    "print(f\"Reading (dequeue): {q1.READ()}\")\n",
    "print(f\"Displaying queue: {q1.queue}\")\n",
    "print(f\"Reading (dequeue): {q1.READ()}\")\n",
    "print(f\"Displaying queue: {q1.queue}\")\n"
   ]
  },
  {
   "cell_type": "markdown",
   "metadata": {},
   "source": [
    "TAPE: SCAN_RIGHT, SCAN_LEFT, TAPE_RIGHT, TAPE_LEFT"
   ]
  },
  {
   "cell_type": "code",
   "execution_count": 9,
   "metadata": {},
   "outputs": [
    {
     "name": "stdout",
     "output_type": "stream",
     "text": [
      "t1: ['#']\n",
      "t1 scan_right: #\n",
      "t1 scan_left: #\n",
      "t1 scan_left: #\n"
     ]
    }
   ],
   "source": [
    "print(f\"t1: {t1.tape}\")\n",
    "print(f\"t1 scan_right: {t1.SCAN_RIGHT()}\")\n",
    "print(f\"t1 scan_left: {t1.SCAN_LEFT()}\")\n",
    "print(f\"t1 scan_left: {t1.SCAN_LEFT()}\")"
   ]
  },
  {
   "cell_type": "code",
   "execution_count": 10,
   "metadata": {},
   "outputs": [
    {
     "name": "stdout",
     "output_type": "stream",
     "text": [
      "t1 scan_right: 1\n",
      "t1 scan_right: 2\n",
      "t1: ['#', 1, 2]\n",
      "t1 tape head: 2\n",
      "t1 scan_right: #\n",
      "t1: ['#', 1, 2, '#']\n",
      "t1 tape head: 3\n"
     ]
    }
   ],
   "source": [
    "print(f\"t1 scan_right: {t1.TAPE_RIGHT(1)}\")\n",
    "print(f\"t1 scan_right: {t1.TAPE_RIGHT(2)}\")\n",
    "print(f\"t1: {t1.tape}\")\n",
    "print(f\"t1 tape head: {t1.tape_head}\")\n",
    "print(f\"t1 scan_right: {t1.SCAN_RIGHT()}\")\n",
    "print(f\"t1: {t1.tape}\")\n",
    "print(f\"t1 tape head: {t1.tape_head}\")"
   ]
  }
 ],
 "metadata": {
  "kernelspec": {
   "display_name": "Python 3",
   "language": "python",
   "name": "python3"
  },
  "language_info": {
   "codemirror_mode": {
    "name": "ipython",
    "version": 3
   },
   "file_extension": ".py",
   "mimetype": "text/x-python",
   "name": "python",
   "nbconvert_exporter": "python",
   "pygments_lexer": "ipython3",
   "version": "3.11.5"
  }
 },
 "nbformat": 4,
 "nbformat_minor": 2
}
