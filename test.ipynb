{
 "cells": [
  {
   "cell_type": "code",
   "execution_count": 1,
   "metadata": {},
   "outputs": [],
   "source": [
    "from util.inputs import process_input\n",
    "from util.machine import Machine"
   ]
  },
  {
   "cell_type": "code",
   "execution_count": 2,
   "metadata": {},
   "outputs": [],
   "source": [
    "input_data_1 = \"\"\"\n",
    ".LOGIC\n",
    "q0] SCAN (0,q0), (1,q1), (1,accept)\n",
    "q1] SCAN (0,q0), (1,q2)\n",
    "q2] SCAN (0,q0), (1,q1), (1,accept)\n",
    "\"\"\""
   ]
  },
  {
   "cell_type": "code",
   "execution_count": 3,
   "metadata": {},
   "outputs": [],
   "source": [
    "input_data_2 = \"\"\"\n",
    ".LOGIC\n",
    "A] SCAN RIGHT (0,A), (1,B), (#,accept)\n",
    "B] SCAN LEFT (0,C), (1,reject)\n",
    "C] SCAN RIGHT (1,A)\n",
    "\"\"\""
   ]
  },
  {
   "cell_type": "code",
   "execution_count": 4,
   "metadata": {},
   "outputs": [],
   "source": [
    "input_data_3 = \"\"\"\n",
    "\n",
    ".DATA\n",
    "TAPE T1\n",
    ".LOGIC\n",
    "A] RIGHT(T1) (0/X,B), (Y/Y,D), (1/1,reject)\n",
    "B] RIGHT(T1) (0/0,B), (Y/Y,B), (1/Y,C)\n",
    "C] LEFT(T1) (0/0,C), (Y/Y,C), (X/X,A)\n",
    "D] RIGHT(T1) (Y/Y,D), (#/#,accept), (1/1,reject)\n",
    "\n",
    "\n",
    "\n",
    "\"\"\""
   ]
  },
  {
   "cell_type": "code",
   "execution_count": 5,
   "metadata": {},
   "outputs": [],
   "source": [
    "data_arr, logic_arr = process_input(input_data_3)"
   ]
  },
  {
   "cell_type": "code",
   "execution_count": 6,
   "metadata": {},
   "outputs": [],
   "source": [
    "machine = Machine(data_arr, logic_arr)"
   ]
  },
  {
   "cell_type": "code",
   "execution_count": 7,
   "metadata": {},
   "outputs": [
    {
     "name": "stdout",
     "output_type": "stream",
     "text": [
      "Name: T1, Type: <util.memory.tape.TAPE object at 0x000001FF33FF0350>\n"
     ]
    }
   ],
   "source": [
    "for mem in machine.memory:\n",
    "    print(f\"Name: {mem.name}, Type: {mem}\")"
   ]
  },
  {
   "cell_type": "code",
   "execution_count": 8,
   "metadata": {},
   "outputs": [
    {
     "name": "stdout",
     "output_type": "stream",
     "text": [
      "Name: accept, Transition Type: None, Memory Object: None, Transitions: {}\n",
      "Name: reject, Transition Type: None, Memory Object: None, Transitions: {}\n",
      "Name: A, Transition Type: RIGHT, Memory Object: T1, Transitions: {'B': ['0/X'], 'D': ['Y/Y'], 'reject': ['1/1']}\n",
      "Name: B, Transition Type: RIGHT, Memory Object: T1, Transitions: {'B': ['0/0', 'Y/Y'], 'C': ['1/Y']}\n",
      "Name: C, Transition Type: LEFT, Memory Object: T1, Transitions: {'C': ['0/0', 'Y/Y'], 'A': ['X/X']}\n",
      "Name: D, Transition Type: RIGHT, Memory Object: T1, Transitions: {'D': ['Y/Y'], 'accept': ['#/#'], 'reject': ['1/1']}\n"
     ]
    }
   ],
   "source": [
    "for state in machine.stateList:\n",
    "    print(f\"Name: {state.name}, Transition Type: {state.transition_type}, Memory Object: {state.memory_object}, Transitions: {state.transitions}\")"
   ]
  },
  {
   "cell_type": "code",
   "execution_count": 9,
   "metadata": {},
   "outputs": [
    {
     "name": "stdout",
     "output_type": "stream",
     "text": [
      "Current State: A\n"
     ]
    }
   ],
   "source": [
    "print(f\"Current State: {machine.currentState.name}\")"
   ]
  },
  {
   "cell_type": "code",
   "execution_count": 10,
   "metadata": {},
   "outputs": [],
   "source": [
    "input_string = \"#YYY#\""
   ]
  },
  {
   "cell_type": "code",
   "execution_count": 11,
   "metadata": {},
   "outputs": [
    {
     "name": "stdout",
     "output_type": "stream",
     "text": [
      "['#', 'Y', 'Y', 'Y', '#']\n"
     ]
    }
   ],
   "source": [
    "machine.input_tape.tape = [char for char in input_string]\n",
    "print(machine.input_tape.tape)"
   ]
  },
  {
   "cell_type": "code",
   "execution_count": 12,
   "metadata": {},
   "outputs": [
    {
     "name": "stdout",
     "output_type": "stream",
     "text": [
      "Tape char: Y, temp_val: ['0', 'X']\n",
      "Tape char: Y, temp_val: ['Y', 'Y']\n",
      "Tape char: Y, temp_val: ['1', '1']\n"
     ]
    }
   ],
   "source": [
    "machine.next_state()\n",
    "# print(f\"Current State: {machine.currentState.name}\")\n",
    "# print(f\"Memory {machine.memory[0].name}:\")\n",
    "# machine.memory[0].print_tape()"
   ]
  }
 ],
 "metadata": {
  "kernelspec": {
   "display_name": "Python 3",
   "language": "python",
   "name": "python3"
  },
  "language_info": {
   "codemirror_mode": {
    "name": "ipython",
    "version": 3
   },
   "file_extension": ".py",
   "mimetype": "text/x-python",
   "name": "python",
   "nbconvert_exporter": "python",
   "pygments_lexer": "ipython3",
   "version": "3.11.5"
  }
 },
 "nbformat": 4,
 "nbformat_minor": 2
}
