{
 "cells": [
  {
   "cell_type": "code",
   "execution_count": 1,
   "metadata": {},
   "outputs": [],
   "source": [
    "from util.inputs import process_input\n",
    "from util.machine import Machine"
   ]
  },
  {
   "cell_type": "code",
   "execution_count": 2,
   "metadata": {},
   "outputs": [],
   "source": [
    "input_data_1 = \"\"\"\n",
    ".LOGIC\n",
    "q0] SCAN (0,q0), (1,q1), (1,accept)\n",
    "q1] SCAN (0,q0), (1,q2)\n",
    "q2] SCAN (0,q0), (1,q1), (1,accept)\n",
    "\"\"\""
   ]
  },
  {
   "cell_type": "code",
   "execution_count": 3,
   "metadata": {},
   "outputs": [],
   "source": [
    "input_data_2 = \"\"\"\n",
    ".LOGIC\n",
    "A] SCAN RIGHT (0,A), (1,B), (#,accept)\n",
    "B] SCAN LEFT (0,C), (1,reject)\n",
    "C] SCAN RIGHT (1,A)\n",
    "\"\"\""
   ]
  },
  {
   "cell_type": "code",
   "execution_count": 4,
   "metadata": {},
   "outputs": [],
   "source": [
    "input_data_3 = \"\"\"\n",
    "\n",
    ".LOGIC\n",
    "A] SCAN RIGHT (0,A), (1,B), (#,accept)\n",
    "B] SCAN LEFT (0,C), (1,reject)\n",
    "C] SCAN RIGHT (1,A)\n",
    "\n",
    "\"\"\""
   ]
  },
  {
   "cell_type": "code",
   "execution_count": 5,
   "metadata": {},
   "outputs": [
    {
     "name": "stdout",
     "output_type": "stream",
     "text": [
      "WARNING: There is no DATA section.\n"
     ]
    }
   ],
   "source": [
    "data_arr, logic_arr = process_input(input_data_3)"
   ]
  },
  {
   "cell_type": "code",
   "execution_count": 6,
   "metadata": {},
   "outputs": [],
   "source": [
    "machine = Machine(data_arr, logic_arr)"
   ]
  },
  {
   "cell_type": "code",
   "execution_count": 7,
   "metadata": {},
   "outputs": [],
   "source": [
    "for mem in machine.memory:\n",
    "    print(f\"Name: {mem.name}, Type: {mem}\")"
   ]
  },
  {
   "cell_type": "code",
   "execution_count": 8,
   "metadata": {},
   "outputs": [
    {
     "name": "stdout",
     "output_type": "stream",
     "text": [
      "Name: accept, Transition Type: None, Memory Object: None, Transitions: {}\n",
      "Name: reject, Transition Type: None, Memory Object: None, Transitions: {}\n",
      "Name: A, Transition Type: SR, Memory Object: <util.memory.tape.TAPE object at 0x00000172392E77D0>, Transitions: {'A': ['0'], 'B': ['1'], 'accept': ['#']}\n",
      "Name: B, Transition Type: SL, Memory Object: <util.memory.tape.TAPE object at 0x00000172392E77D0>, Transitions: {'C': ['0'], 'reject': ['1']}\n",
      "Name: C, Transition Type: SR, Memory Object: <util.memory.tape.TAPE object at 0x00000172392E77D0>, Transitions: {'A': ['1']}\n"
     ]
    }
   ],
   "source": [
    "for state in machine.stateList:\n",
    "    print(f\"Name: {state.name}, Transition Type: {state.transition_type}, Memory Object: {state.memory_object}, Transitions: {state.transitions}\")"
   ]
  },
  {
   "cell_type": "code",
   "execution_count": 9,
   "metadata": {},
   "outputs": [
    {
     "name": "stdout",
     "output_type": "stream",
     "text": [
      "Current State: A\n"
     ]
    }
   ],
   "source": [
    "print(f\"Current State: {machine.currentState.name}\")"
   ]
  },
  {
   "cell_type": "code",
   "execution_count": 10,
   "metadata": {},
   "outputs": [],
   "source": [
    "input_string = \"#YYY#\""
   ]
  },
  {
   "cell_type": "code",
   "execution_count": 11,
   "metadata": {},
   "outputs": [
    {
     "name": "stdout",
     "output_type": "stream",
     "text": [
      "['#', 'Y', 'Y', 'Y', '#']\n"
     ]
    }
   ],
   "source": [
    "machine.input_tape.tape = [char for char in input_string]\n",
    "print(machine.input_tape.tape)"
   ]
  },
  {
   "cell_type": "code",
   "execution_count": 12,
   "metadata": {},
   "outputs": [
    {
     "name": "stdout",
     "output_type": "stream",
     "text": [
      "WARNING: Memory Object not found\n"
     ]
    },
    {
     "data": {
      "text/plain": [
       "False"
      ]
     },
     "execution_count": 12,
     "metadata": {},
     "output_type": "execute_result"
    }
   ],
   "source": [
    "machine.next_state()\n",
    "# print(f\"Current State: {machine.currentState.name}\")\n",
    "# print(f\"Memory {machine.memory[0].name}:\")\n",
    "# machine.memory[0].print_tape()"
   ]
  }
 ],
 "metadata": {
  "kernelspec": {
   "display_name": "Python 3",
   "language": "python",
   "name": "python3"
  },
  "language_info": {
   "codemirror_mode": {
    "name": "ipython",
    "version": 3
   },
   "file_extension": ".py",
   "mimetype": "text/x-python",
   "name": "python",
   "nbconvert_exporter": "python",
   "pygments_lexer": "ipython3",
   "version": "3.11.5"
  }
 },
 "nbformat": 4,
 "nbformat_minor": 2
}
