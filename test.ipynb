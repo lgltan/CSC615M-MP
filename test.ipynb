{
 "cells": [
  {
   "cell_type": "code",
   "execution_count": 1,
   "metadata": {},
   "outputs": [],
   "source": [
    "from util.inputs import process_input\n",
    "from util.machine import Machine"
   ]
  },
  {
   "cell_type": "code",
   "execution_count": 2,
   "metadata": {},
   "outputs": [],
   "source": [
    "input_data_1 = \"\"\"\n",
    ".LOGIC\n",
    "q0] SCAN (0,q0), (1,q1), (1,accept)\n",
    "q1] SCAN (0,q0), (1,q2)\n",
    "q2] SCAN (0,q0), (1,q1), (1,accept)\n",
    "\"\"\""
   ]
  },
  {
   "cell_type": "code",
   "execution_count": 3,
   "metadata": {},
   "outputs": [],
   "source": [
    "input_data_2 = \"\"\"\n",
    ".LOGIC\n",
    "A] SCAN RIGHT (0,A), (1,B), (#,accept)\n",
    "B] SCAN LEFT (0,C), (1,reject)\n",
    "C] SCAN RIGHT (1,A)\n",
    "\"\"\""
   ]
  },
  {
   "cell_type": "code",
   "execution_count": 4,
   "metadata": {},
   "outputs": [],
   "source": [
    "input_data_3 = \"\"\"\n",
    "\n",
    ".DATA\n",
    "STACK S1\n",
    "STACK S2\n",
    ".LOGIC\n",
    "A] WRITE(S1) (#,B)\n",
    "B] SCAN (a,C), (b,E)\n",
    "C] WRITE(S1) (X,B)\n",
    "D] WRITE(S2) (X,F)\n",
    "E] READ(S1) (X,D)\n",
    "F] SCAN (b,E), (c,G)\n",
    "G] READ(S2) (X,H)\n",
    "H] SCAN (c,G), (#,I)\n",
    "I] READ(S1) (#,J)\n",
    "J] READ(S2) (#,accept)\n",
    "\n",
    "\n",
    "\"\"\""
   ]
  },
  {
   "cell_type": "code",
   "execution_count": 5,
   "metadata": {},
   "outputs": [],
   "source": [
    "data_arr, logic_arr = process_input(input_data_3)"
   ]
  },
  {
   "cell_type": "code",
   "execution_count": 6,
   "metadata": {},
   "outputs": [],
   "source": [
    "machine = Machine(data_arr, logic_arr)"
   ]
  },
  {
   "cell_type": "code",
   "execution_count": 7,
   "metadata": {},
   "outputs": [
    {
     "name": "stdout",
     "output_type": "stream",
     "text": [
      "Name: S1, Type: <util.memory.stack.STACK object at 0x000002729337A990>\n",
      "Name: S2, Type: <util.memory.stack.STACK object at 0x0000027293379250>\n"
     ]
    }
   ],
   "source": [
    "for mem in machine.memory:\n",
    "    print(f\"Name: {mem.name}, Type: {mem}\")"
   ]
  },
  {
   "cell_type": "code",
   "execution_count": 8,
   "metadata": {},
   "outputs": [
    {
     "name": "stdout",
     "output_type": "stream",
     "text": [
      "Name: accept, Transition Type: None, Memory Object: None, Transitions: {}\n",
      "Name: reject, Transition Type: None, Memory Object: None, Transitions: {}\n",
      "Name: A, Transition Type: W, Memory Object: S1, Transitions: {'B': ['#']}\n",
      "Name: B, Transition Type: S, Memory Object: None, Transitions: {'C': ['a'], 'E': ['b']}\n",
      "Name: C, Transition Type: W, Memory Object: S1, Transitions: {'B': ['X']}\n",
      "Name: D, Transition Type: W, Memory Object: S2, Transitions: {'F': ['X']}\n",
      "Name: E, Transition Type: R, Memory Object: S1, Transitions: {'D': ['X']}\n",
      "Name: F, Transition Type: S, Memory Object: None, Transitions: {'E': ['b'], 'G': ['c']}\n",
      "Name: G, Transition Type: R, Memory Object: S2, Transitions: {'H': ['X']}\n",
      "Name: H, Transition Type: S, Memory Object: None, Transitions: {'G': ['c'], 'I': ['#']}\n",
      "Name: I, Transition Type: R, Memory Object: S1, Transitions: {'J': ['#']}\n",
      "Name: J, Transition Type: R, Memory Object: S2, Transitions: {'accept': ['#']}\n"
     ]
    }
   ],
   "source": [
    "for state in machine.stateList:\n",
    "    print(f\"Name: {state.name}, Transition Type: {state.transition_type}, Memory Object: {state.memory_object}, Transitions: {state.transitions}\")"
   ]
  },
  {
   "cell_type": "code",
   "execution_count": 9,
   "metadata": {},
   "outputs": [
    {
     "name": "stdout",
     "output_type": "stream",
     "text": [
      "Current State: A\n"
     ]
    }
   ],
   "source": [
    "print(f\"Current State: {machine.currentState.name}\")"
   ]
  },
  {
   "cell_type": "code",
   "execution_count": 16,
   "metadata": {},
   "outputs": [
    {
     "ename": "NameError",
     "evalue": "name 'STACK' is not defined",
     "output_type": "error",
     "traceback": [
      "\u001b[1;31m---------------------------------------------------------------------------\u001b[0m",
      "\u001b[1;31mNameError\u001b[0m                                 Traceback (most recent call last)",
      "\u001b[1;32mc:\\Users\\techt\\Documents\\Programming\\CSC615M - MP\\test.ipynb Cell 10\u001b[0m line \u001b[0;36m1\n\u001b[1;32m----> <a href='vscode-notebook-cell:/c%3A/Users/techt/Documents/Programming/CSC615M%20-%20MP/test.ipynb#X13sZmlsZQ%3D%3D?line=0'>1</a>\u001b[0m \u001b[39mprint\u001b[39m(\u001b[39mtype\u001b[39m(machine\u001b[39m.\u001b[39mmemory[\u001b[39m0\u001b[39m]) \u001b[39m==\u001b[39m STACK(\u001b[39mNone\u001b[39;00m))\n",
      "\u001b[1;31mNameError\u001b[0m: name 'STACK' is not defined"
     ]
    }
   ],
   "source": [
    "print(type(machine.memory[0]) == STACK(None))"
   ]
  },
  {
   "cell_type": "code",
   "execution_count": 10,
   "metadata": {},
   "outputs": [
    {
     "ename": "AttributeError",
     "evalue": "'Machine' object has no attribute 'next_input'",
     "output_type": "error",
     "traceback": [
      "\u001b[1;31m---------------------------------------------------------------------------\u001b[0m",
      "\u001b[1;31mAttributeError\u001b[0m                            Traceback (most recent call last)",
      "\u001b[1;32mc:\\Users\\techt\\Documents\\Programming\\CSC615M - MP\\test.ipynb Cell 10\u001b[0m line \u001b[0;36m1\n\u001b[1;32m----> <a href='vscode-notebook-cell:/c%3A/Users/techt/Documents/Programming/CSC615M%20-%20MP/test.ipynb#X12sZmlsZQ%3D%3D?line=0'>1</a>\u001b[0m machine\u001b[39m.\u001b[39;49mnext_input(\u001b[39m'\u001b[39m\u001b[39mX\u001b[39m\u001b[39m'\u001b[39m)\n\u001b[0;32m      <a href='vscode-notebook-cell:/c%3A/Users/techt/Documents/Programming/CSC615M%20-%20MP/test.ipynb#X12sZmlsZQ%3D%3D?line=1'>2</a>\u001b[0m \u001b[39mprint\u001b[39m(\u001b[39mf\u001b[39m\u001b[39m\"\u001b[39m\u001b[39mCurrent State: \u001b[39m\u001b[39m{\u001b[39;00mmachine\u001b[39m.\u001b[39mcurrentState\u001b[39m.\u001b[39mname\u001b[39m}\u001b[39;00m\u001b[39m\"\u001b[39m)\n\u001b[0;32m      <a href='vscode-notebook-cell:/c%3A/Users/techt/Documents/Programming/CSC615M%20-%20MP/test.ipynb#X12sZmlsZQ%3D%3D?line=2'>3</a>\u001b[0m \u001b[39mprint\u001b[39m(\u001b[39mf\u001b[39m\u001b[39m\"\u001b[39m\u001b[39mMemory \u001b[39m\u001b[39m{\u001b[39;00mmachine\u001b[39m.\u001b[39mmemory[\u001b[39m0\u001b[39m]\u001b[39m.\u001b[39mname\u001b[39m}\u001b[39;00m\u001b[39m: \u001b[39m\u001b[39m{\u001b[39;00mmachine\u001b[39m.\u001b[39mmemory[\u001b[39m0\u001b[39m]\u001b[39m.\u001b[39mstack\u001b[39m}\u001b[39;00m\u001b[39m\"\u001b[39m)\n",
      "\u001b[1;31mAttributeError\u001b[0m: 'Machine' object has no attribute 'next_input'"
     ]
    }
   ],
   "source": [
    "machine.next_state('X')\n",
    "print(f\"Current State: {machine.currentState.name}\")\n",
    "print(f\"Memory {machine.memory[0].name}: {machine.memory[0].stack}\")"
   ]
  }
 ],
 "metadata": {
  "kernelspec": {
   "display_name": "Python 3",
   "language": "python",
   "name": "python3"
  },
  "language_info": {
   "codemirror_mode": {
    "name": "ipython",
    "version": 3
   },
   "file_extension": ".py",
   "mimetype": "text/x-python",
   "name": "python",
   "nbconvert_exporter": "python",
   "pygments_lexer": "ipython3",
   "version": "3.11.5"
  }
 },
 "nbformat": 4,
 "nbformat_minor": 2
}
