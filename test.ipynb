{
 "cells": [
  {
   "cell_type": "code",
   "execution_count": 1,
   "metadata": {},
   "outputs": [],
   "source": [
    "from util.inputs import process_input\n",
    "from util.machine import Machine"
   ]
  },
  {
   "cell_type": "code",
   "execution_count": 2,
   "metadata": {},
   "outputs": [],
   "source": [
    "input_data_1 = \"\"\"\n",
    ".LOGIC\n",
    "q0] SCAN (0,q0), (1,q1), (1,accept)\n",
    "q1] SCAN (0,q0), (1,q2)\n",
    "q2] SCAN (0,q0), (1,q1), (1,accept)\n",
    "\"\"\""
   ]
  },
  {
   "cell_type": "code",
   "execution_count": 3,
   "metadata": {},
   "outputs": [],
   "source": [
    "input_data_2 = \"\"\"\n",
    ".LOGIC\n",
    "A] SCAN RIGHT (0,A), (1,B), (#,accept)\n",
    "B] SCAN LEFT (0,C), (1,reject)\n",
    "C] SCAN RIGHT (1,A)\n",
    "\"\"\""
   ]
  },
  {
   "cell_type": "code",
   "execution_count": 4,
   "metadata": {},
   "outputs": [],
   "source": [
    "input_data_3 = \"\"\"\n",
    "\n",
    ".DATA\n",
    "STACK S1\n",
    "STACK S2\n",
    "\n",
    ".LOGIC\n",
    "A] WRITE(S1) (#,B)\n",
    "B] SCAN (0,C), (1,D)\n",
    "C] WRITE(S1) (#,B)\n",
    "D] READ(S1) (#,E)\n",
    "E] SCAN (1,D), (#,F)\n",
    "F] READ(S1) (#,accept)\n",
    "\n",
    "\"\"\""
   ]
  },
  {
   "cell_type": "code",
   "execution_count": 5,
   "metadata": {},
   "outputs": [
    {
     "name": "stdout",
     "output_type": "stream",
     "text": [
      "['\\n\\n', 'DATA\\nSTACK S1\\nSTACK S2\\n\\n', 'LOGIC\\nA] WRITE(S1) (#,B)\\nB] SCAN (0,C), (1,D)\\nC] WRITE(S1) (#,B)\\nD] READ(S1) (#,E)\\nE] SCAN (1,D), (#,F)\\nF] READ(S1) (#,accept)\\n\\n']\n"
     ]
    }
   ],
   "source": [
    "data_arr, logic_arr = process_input(input_data_3)"
   ]
  },
  {
   "cell_type": "code",
   "execution_count": 6,
   "metadata": {},
   "outputs": [],
   "source": [
    "machine = Machine(data_arr, logic_arr)"
   ]
  },
  {
   "cell_type": "code",
   "execution_count": 7,
   "metadata": {},
   "outputs": [
    {
     "name": "stdout",
     "output_type": "stream",
     "text": [
      "Name: S1, Type: <util.memory.stack.STACK object at 0x000001B8F6918350>\n",
      "Name: S2, Type: <util.memory.stack.STACK object at 0x000001B8F691A390>\n"
     ]
    }
   ],
   "source": [
    "for mem in machine.memory:\n",
    "    print(f\"Name: {mem.name}, Type: {mem}\")"
   ]
  },
  {
   "cell_type": "code",
   "execution_count": 10,
   "metadata": {},
   "outputs": [
    {
     "name": "stdout",
     "output_type": "stream",
     "text": [
      "Name: A, Transition Type: WRITE, Memory Object: S1, Transitions: {'#': 'B'}\n",
      "Name: B, Transition Type: SCAN, Memory Object: None, Transitions: {'0': 'C', '1': 'D'}\n",
      "Name: C, Transition Type: WRITE, Memory Object: S1, Transitions: {'#': 'B'}\n",
      "Name: D, Transition Type: READ, Memory Object: S1, Transitions: {'#': 'E'}\n",
      "Name: E, Transition Type: SCAN, Memory Object: None, Transitions: {'1': 'D', '#': 'F'}\n",
      "Name: F, Transition Type: READ, Memory Object: S1, Transitions: {'#': 'accept'}\n"
     ]
    }
   ],
   "source": [
    "for state in machine.stateList:\n",
    "    print(f\"Name: {state.name}, Transition Type: {state.transition_type}, Memory Object: {state.memory_object}, Transitions: {state.transitions}\")"
   ]
  },
  {
   "cell_type": "code",
   "execution_count": 9,
   "metadata": {},
   "outputs": [
    {
     "name": "stdout",
     "output_type": "stream",
     "text": [
      "Current State: A\n"
     ]
    }
   ],
   "source": [
    "print(f\"Current State: {machine.currentState.name}\")"
   ]
  }
 ],
 "metadata": {
  "kernelspec": {
   "display_name": "Python 3",
   "language": "python",
   "name": "python3"
  },
  "language_info": {
   "codemirror_mode": {
    "name": "ipython",
    "version": 3
   },
   "file_extension": ".py",
   "mimetype": "text/x-python",
   "name": "python",
   "nbconvert_exporter": "python",
   "pygments_lexer": "ipython3",
   "version": "3.11.5"
  }
 },
 "nbformat": 4,
 "nbformat_minor": 2
}
